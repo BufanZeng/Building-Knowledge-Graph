{
 "cells": [
  {
   "cell_type": "code",
   "execution_count": 2,
   "metadata": {
    "collapsed": true,
    "scrolled": true
   },
   "outputs": [],
   "source": [
    "import pandas as pd\n",
    "import os\n",
    "import numpy as np\n",
    "import matplotlib.pyplot as plt\n",
    "import string"
   ]
  },
  {
   "cell_type": "code",
   "execution_count": 3,
   "metadata": {
    "collapsed": true
   },
   "outputs": [],
   "source": [
    "def editdist(s1, s2):\n",
    "    c = len(s1) + 1\n",
    "    r = len(s2) + 1\n",
    "    # initialize matrix\n",
    "    M = [[0 for x in range(c)] for y in range(r)]\n",
    "    for i in range(0,c):\n",
    "        M[0][i] = i\n",
    "    for j in range(0,r):\n",
    "        M[j][0] = j\n",
    "    # dynamic programming\n",
    "    for i in range(1,r):\n",
    "        for j in range(1,c):\n",
    "            if s1[j-1] == s2[i-1]:\n",
    "                M[i][j] = M[i-1][j-1]\n",
    "            else:\n",
    "                M[i][j] = min(M[i-1][j-1], M[i-1][j], M[i][j-1]) + 1\n",
    "\n",
    "    \n",
    "    return M[r-1][c-1]"
   ]
  },
  {
   "cell_type": "code",
   "execution_count": 4,
   "metadata": {
    "scrolled": false
   },
   "outputs": [
    {
     "name": "stdout",
     "output_type": "stream",
     "text": [
      "15---\"Canter's 419 N. Fairfax Ave. Los Angeles\", \"213/651-2030\". American\"\n",
      "\n",
      "23---\"Dive! 10250 Santa Monica Blvd. Los Angeles\", \"310/788-DIVE American\"\n",
      "\n",
      "229---\"Lucky Strike 59 Grand St.  between Wooster St. and W. Broadway New York\", \"212/941-0479\", \"or\", \"212/941-0772\", \"American\"\n",
      "\n",
      "277---\"Rainbow Room 30 Rockefeller Plaza New York\", \"212/632-5000\", \"or\", \"212/632-5100\", \"American\"\n",
      "\n",
      "333---\"Zen Palate 34 Union Sq. E at 16th St. New York\", \"212/614-9291\", \"and\", \"212/614-9345\", \"Asian\"\n",
      "\n",
      "506---\"R&G Lounge 631 B Kearny St. San Francisco\", \"415/982-7877\", \"or\", \"415/982-3811\", \"Asian\"\n",
      "\n"
     ]
    }
   ],
   "source": [
    "fodors_raw = list()\n",
    "with open(\"fodors.csv\", \"r\") as f:\n",
    "    i = 0\n",
    "    for line in f.readlines():\n",
    "        fodors_raw.append(line.split(\",\"))\n",
    "        \n",
    "        if len(line.split(\",\")) != 3:\n",
    "            print str(i) + \"---\" + line\n",
    "        i += 1\n"
   ]
  },
  {
   "cell_type": "code",
   "execution_count": 5,
   "metadata": {
    "collapsed": true
   },
   "outputs": [],
   "source": [
    "# clean data\n",
    "fodors_raw[15] = [fodors_raw[15][0], fodors_raw[15][1].split(\". \")[0], \"\\\"\" + fodors_raw[15][1].split(\". \")[1]]\n",
    "fodors_raw[23] = [fodors_raw[23][0], fodors_raw[23][1].split(\"DIVE \")[0]+ \"3483\\\"\", \"\\\"\" + fodors_raw[23][1].split(\"DIVE \")[1]]\n",
    "tmp = len(fodors_raw) - 1\n",
    "for i in [229, 277, 333,506]:\n",
    "    fodors_raw.append([fodors_raw[i][0],fodors_raw[i][3],fodors_raw[i][4]])\n",
    "    fodors_raw[i] = [fodors_raw[i][0],fodors_raw[i][1],fodors_raw[i][4]]\n",
    "\n",
    "mfodors = {tmp : 228, tmp +1 : 276, tmp + 2 : 332, tmp + 3 : 505}"
   ]
  },
  {
   "cell_type": "code",
   "execution_count": 6,
   "metadata": {},
   "outputs": [
    {
     "name": "stdout",
     "output_type": "stream",
     "text": [
      "236---\"Deacon Burton's Soulfood Restaurant 1029 Edgewood Ave. SE Atlanta404-523-1929\", \"Southern/Soul\"\n",
      "\n",
      "245---\"Hedgerose Heights Inn  The 490 E. Paces Ferry Rd. NE Atlanta\", \"404-233-7673Continental\"\n",
      "\n",
      "276---\"Toulouse\", \"293-B Peachtree Rd. Atlanta\", \"404-351-9533\", \"French (New)\"\n",
      "\n"
     ]
    }
   ],
   "source": [
    "zagats_raw = list()\n",
    "with open(\"zagats.csv\", \"r\") as f1:\n",
    "    i=0\n",
    "    for line in f1.readlines():\n",
    "        zagats_raw.append(line.split(\",\"))\n",
    "        if len(line.split(\",\")) != 3:\n",
    "            print str(i) + \"---\" + line\n",
    "        i += 1\n"
   ]
  },
  {
   "cell_type": "code",
   "execution_count": 7,
   "metadata": {
    "collapsed": true
   },
   "outputs": [],
   "source": [
    "zagats_raw[236] = [zagats_raw[236][0][:-13], zagats_raw[236][0][-13:-1], zagats_raw[236][1]]\n",
    "zagats_raw[245] = [zagats_raw[245][0], zagats_raw[245][1][0:14], zagats_raw[245][1][14:]]\n",
    "zagats_raw[276] = [zagats_raw[276][0]+ zagats_raw[276][1], zagats_raw[276][2], zagats_raw[276][3]]\n"
   ]
  },
  {
   "cell_type": "code",
   "execution_count": 8,
   "metadata": {},
   "outputs": [
    {
     "data": {
      "text/plain": [
       "537"
      ]
     },
     "execution_count": 8,
     "metadata": {},
     "output_type": "execute_result"
    }
   ],
   "source": [
    "# remove header\n",
    "fodors = fodors_raw[1:]\n",
    "zagats = zagats_raw[1:]\n",
    "len(fodors)"
   ]
  },
  {
   "cell_type": "code",
   "execution_count": 10,
   "metadata": {},
   "outputs": [],
   "source": [
    "# initialize distance matrix\n",
    "c = len(zagats)\n",
    "r = len(fodors)\n",
    "# addrDist = [[0 for x in range(c)] for y in range(r)]  # 533 * 331\n",
    "telDist = np.zeros((len(fodors), len(zagats)))\n",
    "# compare input and get edit distance\n",
    "for i in range(0, r):\n",
    "    for j in range(0, c):\n",
    "#         addrDist[i][j] += editdist(fodors[i][0], zagats[j][0])\n",
    "        telDist[i][j] += editdist(fodors[i][1].translate(None, string.punctuation), zagats[j][1].translate(None, string.punctuation))\n",
    "#         cuiDist[i][j] += editdist(fodors[i][2], zagats[j][2])"
   ]
  },
  {
   "cell_type": "code",
   "execution_count": 12,
   "metadata": {},
   "outputs": [
    {
     "data": {
      "text/plain": [
       "(array([  120,    47,   366,  1875,  7205, 55108, 50483, 49118, 13196,   229]),\n",
       " array([  0. ,   1.2,   2.4,   3.6,   4.8,   6. ,   7.2,   8.4,   9.6,\n",
       "         10.8,  12. ]))"
      ]
     },
     "execution_count": 12,
     "metadata": {},
     "output_type": "execute_result"
    }
   ],
   "source": [
    "np.histogram(telDist)"
   ]
  },
  {
   "cell_type": "code",
   "execution_count": 13,
   "metadata": {},
   "outputs": [
    {
     "data": {
      "text/plain": [
       "{0.0: 111,\n",
       " 1.0: 9,\n",
       " 2.0: 47,\n",
       " 3.0: 366,\n",
       " 4.0: 1875,\n",
       " 5.0: 7205,\n",
       " 6.0: 19413,\n",
       " 7.0: 35695,\n",
       " 8.0: 50483,\n",
       " 9.0: 49118,\n",
       " 10.0: 13196,\n",
       " 11.0: 226,\n",
       " 12.0: 3}"
      ]
     },
     "execution_count": 13,
     "metadata": {},
     "output_type": "execute_result"
    }
   ],
   "source": [
    "unique, counts = np.unique(telDist, return_counts=True)\n",
    "dict(zip(unique, counts))"
   ]
  },
  {
   "cell_type": "code",
   "execution_count": 14,
   "metadata": {
    "collapsed": true
   },
   "outputs": [],
   "source": [
    "cand = np.where(telDist <=1)"
   ]
  },
  {
   "cell_type": "code",
   "execution_count": 15,
   "metadata": {},
   "outputs": [
    {
     "data": {
      "text/plain": [
       "(array([  1,   2,  10,  13,  18,  19,  29,  32,  33,  36,  42,  43,  46,\n",
       "         48,  56,  58,  59,  66,  67,  71,  75,  79,  82,  83,  94,  98,\n",
       "        116, 119, 131, 132, 135, 145, 146, 158, 170, 182, 183, 197, 201,\n",
       "        208, 209, 214, 223, 225, 229, 234, 236, 242, 243, 247, 253, 262,\n",
       "        268, 269, 270, 276, 280, 281, 287, 292, 294, 296, 298, 299, 300,\n",
       "        309, 314, 322, 327, 335, 340, 344, 345, 346, 347, 347, 351, 357,\n",
       "        358, 358, 361, 362, 363, 368, 370, 376, 380, 382, 386, 386, 396,\n",
       "        397, 403, 412, 413, 414, 417, 420, 429, 431, 437, 438, 444, 447,\n",
       "        450, 454, 458, 460, 468, 479, 483, 486, 489, 492, 496, 503, 504,\n",
       "        506, 507, 534]),\n",
       " array([  1,   2,  15,  17,  20,  21,  27,  28,  29,   5,  45,  50,  52,\n",
       "         56,  67,  68,  71,  41,  75,  81,  65,  87,  89,  91,  93,  95,\n",
       "         98,  99, 100, 101, 102, 106, 108, 112, 113, 115, 116, 119, 121,\n",
       "        127, 129, 131, 133, 134, 136, 137, 138, 141, 142, 145, 148, 153,\n",
       "        156, 157, 158, 159, 160, 125, 163, 165, 166, 176, 167, 168, 169,\n",
       "        176, 184, 181, 183, 216, 218, 223, 225, 227, 267, 268, 234, 236,\n",
       "        267, 268, 240, 244, 245, 248, 253, 256, 260, 264, 266, 269, 275,\n",
       "        278, 210, 192, 209, 193, 211, 211, 209, 213, 281, 282, 284, 285,\n",
       "        289, 291, 298, 299, 301, 303, 305, 308, 311, 313, 305, 316, 317,\n",
       "        318, 320, 159]))"
      ]
     },
     "execution_count": 15,
     "metadata": {},
     "output_type": "execute_result"
    }
   ],
   "source": [
    "cand"
   ]
  },
  {
   "cell_type": "code",
   "execution_count": 16,
   "metadata": {
    "collapsed": true
   },
   "outputs": [],
   "source": [
    "# map back the indexes\n",
    "for i in cand[0][cand[0]>= tmp]:\n",
    "    cand[0][cand[0]>= tmp] = mfodors[i]"
   ]
  },
  {
   "cell_type": "code",
   "execution_count": 17,
   "metadata": {},
   "outputs": [
    {
     "name": "stdout",
     "output_type": "stream",
     "text": [
      "Big dist in addr--------\n",
      "Spago 1114 Horn Ave Los Angeles\n",
      "Spago Los Angeles 8795 Sunset Blvd W Hollywood\n",
      "Big dist in addr--------\n",
      "Roettelle A G 126 E 7th St  between 1st Ave and Ave A New York\n",
      "Kiev 117 Second Ave New York City\n",
      "Big dist in addr--------\n",
      "Sfuzzi 58 W 65th St New York\n",
      "Tavern on the Green Central Park West New York City\n",
      "Big dist in addr--------\n",
      "Trattoria DellArte 900 7th Ave  between 56th and 57th Sts New York\n",
      "Westside Cottage 689 Ninth Ave New York City\n",
      "Big dist in cui--------\n",
      "Cafeacute  RitzCarlton  Buckhead 3434 Peachtree Rd Atlanta\n",
      "RitzCarlton Cafe Buckhead 3434 Peachtree Rd NE Atlanta\n",
      "Big dist in cui--------\n",
      "Cafeacute  RitzCarlton  Buckhead 3434 Peachtree Rd Atlanta\n",
      "RitzCarlton Dining Room Buckhead 3434 Peachtree Rd NE Atlanta\n",
      "Big dist in addr--------\n",
      "Mifune Japan Center  Kintetsu Building  1737 Post St San Francisco\n",
      "Mifune 1737 Post St San Francisco\n"
     ]
    }
   ],
   "source": [
    "# calculate edit dist for addr and cuisine\n",
    "addrDist = []\n",
    "cuiDist = []\n",
    "for i in range(len(cand[0])):\n",
    "    str1 = fodors[cand[0][i]][0].translate(None, string.punctuation)\n",
    "    str2 = zagats[cand[1][i]][0].translate(None, string.punctuation)\n",
    "    \n",
    "    add = editdist(str1, str2) *1.0 / min(len(str1),len(str2))\n",
    "    \n",
    "    addrDist.append(add)\n",
    "    if add >= 0.95: \n",
    "        print \"Big dist in addr--------\"\n",
    "        print str1\n",
    "        print str2\n",
    "    \n",
    "    cstr1 = fodors[cand[0][i]][2]\n",
    "    cstr2 = zagats[cand[1][i]][2]\n",
    "    cui = editdist(cstr1, cstr2)\n",
    "    if cui >= 21:\n",
    "        print \"Big dist in cui--------\"\n",
    "        print str1\n",
    "        print str2\n",
    "    cuiDist.append(cui)"
   ]
  },
  {
   "cell_type": "code",
   "execution_count": 18,
   "metadata": {},
   "outputs": [
    {
     "data": {
      "text/plain": [
       "(array([39, 25, 17, 16,  5,  7,  6,  1,  2,  2]),\n",
       " array([ 0.        ,  0.13636364,  0.27272727,  0.40909091,  0.54545455,\n",
       "         0.68181818,  0.81818182,  0.95454545,  1.09090909,  1.22727273,\n",
       "         1.36363636]))"
      ]
     },
     "execution_count": 18,
     "metadata": {},
     "output_type": "execute_result"
    }
   ],
   "source": [
    "# looks like using edit dist on cuisine is bad, therefore use normalized edit dist on addr only\n",
    "np.histogram(addrDist)"
   ]
  },
  {
   "cell_type": "code",
   "execution_count": 19,
   "metadata": {
    "collapsed": true
   },
   "outputs": [],
   "source": [
    "# filter out those cands with addr dist more than 0.95\n",
    "with open (\"output.txt\",\"w\") as out:\n",
    "    for i in range(len(addrDist)):\n",
    "        if addrDist[i] < 0.95:\n",
    "            out.write(\"zagats.csv:\" + str(cand[1][i]) + \"\\t\" + \"fodors.csv:\" + str(cand[0][i]) + \"\\n\")\n",
    "\n",
    "        "
   ]
  },
  {
   "cell_type": "code",
   "execution_count": null,
   "metadata": {
    "collapsed": true
   },
   "outputs": [],
   "source": []
  }
 ],
 "metadata": {
  "kernelspec": {
   "display_name": "Python 2",
   "language": "python",
   "name": "python2"
  },
  "language_info": {
   "codemirror_mode": {
    "name": "ipython",
    "version": 2
   },
   "file_extension": ".py",
   "mimetype": "text/x-python",
   "name": "python",
   "nbconvert_exporter": "python",
   "pygments_lexer": "ipython2",
   "version": "2.7.14"
  }
 },
 "nbformat": 4,
 "nbformat_minor": 2
}
